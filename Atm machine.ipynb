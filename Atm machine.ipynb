{
 "cells": [
  {
   "cell_type": "code",
   "execution_count": null,
   "metadata": {},
   "outputs": [
    {
     "name": "stdout",
     "output_type": "stream",
     "text": [
      "WELCOME TO SONA ATM MACHINE\n",
      "PLEASE INSERT ATM CARD (PRESS ENTER TO CONTINUE)\n",
      "THANK YOU!\n",
      "Enter your pin to proceed: 1234\n",
      "Invalid password. ( Enter password again.)\n",
      "Enter your pin to proceed: 1991\n",
      "Choose Transaction\n",
      "1.Balance Inquiry\n",
      "2.Withdraw money\n",
      "3.Change pin\n",
      "4.Transfer money\n",
      "5. Buy airtime\n",
      "6.Check account number\n",
      "7.More about sona bank\n",
      "8.Quit\n",
      "4\n",
      "Enter amount: 30000\n",
      "Account Number: 12345678\n",
      "Insufficient Fund or wrong account number(For more transaction or quit enter pin ) \n",
      "Enter your pin to proceed: 1991\n",
      "Choose Transaction\n",
      "1.Balance Inquiry\n",
      "2.Withdraw money\n",
      "3.Change pin\n",
      "4.Transfer money\n",
      "5. Buy airtime\n",
      "6.Check account number\n",
      "7.More about sona bank\n",
      "8.Quit\n",
      "4\n",
      "Enter amount: 10000\n",
      "Account Number: 1234567\n",
      "Transfer Successfully(For more transaction or quit enter pin ) \n"
     ]
    }
   ],
   "source": [
    "\n",
    "def Balance_Inquiry():\n",
    "    return ('Balance =#90000'  '(For more transaction or quit enter pin ) ')\n",
    "def withdraw_money():\n",
    "    amount = int(input('Enter Amount: '))\n",
    "    if amount >= 20000:\n",
    "        a = 'collect your cash'  '(For more transaction or quit enter pin ) '\n",
    "    elif amount > 20000:\n",
    "        a = 'you can only  withdraw #20000 at a time' '(For more transaction or quit enter pin ) '\n",
    "    elif amount <= 1000:\n",
    "        a = 'invalid entry' '(For more transaction or quit enter pin ) '\n",
    "    else:\n",
    "        a = 'insufficient fund'  '(For more transaction or quit enter pin ) '\n",
    "    return a\n",
    "def change_atmpin():\n",
    "    pin = int(input('Enter old pin: '))\n",
    "    pin2 = int(input('Enter new pin: '))\n",
    "    if pin == 1991:\n",
    "        b = 'pin changed'  '(For more transaction or quit enter pin ) '\n",
    "    else:\n",
    "        b = 'Invalid pin'  '(For more transaction or quit enter pin ) '\n",
    "    return b\n",
    "def transfer_money():\n",
    "    amount = int(input('Enter amount: '))\n",
    "    account_number = (input('Account Number: '))\n",
    "    if amount <= 15000 and len(account_number) == 7:\n",
    "        a = 'Transfer Successfully'  '(For more transaction or quit enter pin ) '\n",
    "    else:\n",
    "        a = 'Insufficient Fund or wrong account number' '(For more transaction or quit enter pin ) '\n",
    "    return a\n",
    "def Buy_airtime():\n",
    "    pnum = (input('Enter your phone number: '))   \n",
    "    amount = int(input('Enter amount : '))\n",
    "    if amount >= 100 and len(pnum) ==11:\n",
    "        r = 'Successful'  '(For more transaction or quit enter pin ) '\n",
    "    else:\n",
    "        r = 'Transaction failed'  '(For more transaction or quit enter pin ) '\n",
    "    return r\n",
    "def check_acctno():\n",
    "    acctNO = 'Account Number: 1234567'  '(For more transaction or quit enter pin ) '\n",
    "    return acctNO\n",
    "def More_sona():\n",
    "    s = 'SONA BANK IS THE WORLD BEST BANK!' '(For more transaction or quit enter pin ) '\n",
    "    return s\n",
    "def quit():\n",
    "    return 'THANK YOU FOR BANKING WITH US'\n",
    "\n",
    "    \n",
    "    \n",
    "\n",
    "\n",
    "print('WELCOME TO SONA ATM MACHINE')\n",
    "ATM = input('PLEASE INSERT ATM CARD' ' (PRESS ENTER TO CONTINUE)')\n",
    "if ATM == '':\n",
    "    print('THANK YOU!')\n",
    "Atm_pin = '1991'\n",
    "\n",
    "Transaction = ['Choose Transaction','Balance Inquiry','Withdraw money','Change pin','Transfer money','Buy airtime',\\\n",
    "               'Check accountNO','More about sona bank''Quit']\n",
    "\n",
    "while True:\n",
    "    pin = input('Enter your pin to proceed: ')\n",
    "    if pin == '1991':\n",
    "        print('Choose Transaction')\n",
    "        print('1.Balance Inquiry')\n",
    "        print('2.Withdraw money')\n",
    "        print('3.Change pin')\n",
    "        print('4.Transfer money')\n",
    "        print('5. Buy airtime')\n",
    "        print('6.Check account number')\n",
    "        print('7.More about sona bank')\n",
    "        print('8.Quit')\n",
    "        Transaction = input()\n",
    "        if Transaction == '1':\n",
    "            print(Balance_Inquiry())\n",
    "        elif Transaction =='2':\n",
    "            print(withdraw_money())\n",
    "        elif Transaction =='3':\n",
    "            print(change_atmpin())\n",
    "        elif Transaction == '4':\n",
    "            print(transfer_money())\n",
    "        elif Transaction =='5':\n",
    "            print(Buy_airtime())\n",
    "        elif Transaction == '6':\n",
    "            print(check_acctno())\n",
    "        elif Transaction == '7':\n",
    "            print(More_sona())\n",
    "        elif Transaction == '8':\n",
    "            print(quit())\n",
    "            break\n",
    "    else:\n",
    "        print('Invalid password.' ' ( Enter password again.)')\n",
    "    "
   ]
  },
  {
   "cell_type": "code",
   "execution_count": null,
   "metadata": {
    "collapsed": true
   },
   "outputs": [],
   "source": [
    "\n",
    "\n"
   ]
  },
  {
   "cell_type": "code",
   "execution_count": null,
   "metadata": {
    "collapsed": true
   },
   "outputs": [],
   "source": []
  },
  {
   "cell_type": "code",
   "execution_count": null,
   "metadata": {
    "collapsed": true
   },
   "outputs": [],
   "source": []
  },
  {
   "cell_type": "code",
   "execution_count": null,
   "metadata": {
    "collapsed": true
   },
   "outputs": [],
   "source": []
  }
 ],
 "metadata": {
  "kernelspec": {
   "display_name": "Python 3",
   "language": "python",
   "name": "python3"
  },
  "language_info": {
   "codemirror_mode": {
    "name": "ipython",
    "version": 3
   },
   "file_extension": ".py",
   "mimetype": "text/x-python",
   "name": "python",
   "nbconvert_exporter": "python",
   "pygments_lexer": "ipython3",
   "version": "3.6.1"
  }
 },
 "nbformat": 4,
 "nbformat_minor": 2
}
